{
  "nbformat": 4,
  "nbformat_minor": 0,
  "metadata": {
    "colab": {
      "name": "airbnb.ipynb",
      "provenance": []
    },
    "kernelspec": {
      "name": "python3",
      "display_name": "Python 3"
    },
    "language_info": {
      "name": "python"
    }
  },
  "cells": [
    {
      "cell_type": "code",
      "metadata": {
        "id": "uJZNhf4360jO"
      },
      "source": [
        "#Import libraries\n",
        "import numpy as np\n",
        "import pandas as pd\n",
        "import matplotlib.pyplot as plt\n",
        "import seaborn as sns"
      ],
      "execution_count": null,
      "outputs": []
    },
    {
      "cell_type": "code",
      "metadata": {
        "id": "ISQEfzau7Fio"
      },
      "source": [
        "#Read csv file and create pandas dataframe\n",
        "df = pd.read_csv('airbnb.csv')"
      ],
      "execution_count": null,
      "outputs": []
    },
    {
      "cell_type": "code",
      "metadata": {
        "colab": {
          "base_uri": "https://localhost:8080/",
          "height": 462
        },
        "id": "uHw6Itmn7fY6",
        "outputId": "1ae34382-f781-4fac-bab7-fce5f4215ec7"
      },
      "source": [
        "#Review first 5 rows\n",
        "df.head(5)"
      ],
      "execution_count": null,
      "outputs": [
        {
          "output_type": "execute_result",
          "data": {
            "text/html": [
              "<div>\n",
              "<style scoped>\n",
              "    .dataframe tbody tr th:only-of-type {\n",
              "        vertical-align: middle;\n",
              "    }\n",
              "\n",
              "    .dataframe tbody tr th {\n",
              "        vertical-align: top;\n",
              "    }\n",
              "\n",
              "    .dataframe thead th {\n",
              "        text-align: right;\n",
              "    }\n",
              "</style>\n",
              "<table border=\"1\" class=\"dataframe\">\n",
              "  <thead>\n",
              "    <tr style=\"text-align: right;\">\n",
              "      <th></th>\n",
              "      <th>room_id</th>\n",
              "      <th>survey_id</th>\n",
              "      <th>host_id</th>\n",
              "      <th>room_type</th>\n",
              "      <th>country</th>\n",
              "      <th>city</th>\n",
              "      <th>borough</th>\n",
              "      <th>neighborhood</th>\n",
              "      <th>reviews</th>\n",
              "      <th>overall_satisfaction</th>\n",
              "      <th>accommodates</th>\n",
              "      <th>bedrooms</th>\n",
              "      <th>bathrooms</th>\n",
              "      <th>price</th>\n",
              "      <th>minstay</th>\n",
              "      <th>name</th>\n",
              "      <th>last_modified</th>\n",
              "      <th>latitude</th>\n",
              "      <th>longitude</th>\n",
              "      <th>location</th>\n",
              "    </tr>\n",
              "  </thead>\n",
              "  <tbody>\n",
              "    <tr>\n",
              "      <th>0</th>\n",
              "      <td>10176931</td>\n",
              "      <td>1476</td>\n",
              "      <td>49180562</td>\n",
              "      <td>Shared room</td>\n",
              "      <td>NaN</td>\n",
              "      <td>Amsterdam</td>\n",
              "      <td>NaN</td>\n",
              "      <td>De Pijp / Rivierenbuurt</td>\n",
              "      <td>7</td>\n",
              "      <td>4.5</td>\n",
              "      <td>2</td>\n",
              "      <td>1.0</td>\n",
              "      <td>NaN</td>\n",
              "      <td>156.0</td>\n",
              "      <td>NaN</td>\n",
              "      <td>Red Light/ Canal view apartment (Shared)</td>\n",
              "      <td>2017-07-23 13:06:27.391699</td>\n",
              "      <td>52.356209</td>\n",
              "      <td>4.887491</td>\n",
              "      <td>0101000020E610000033FAD170CA8C13403BC5AA41982D...</td>\n",
              "    </tr>\n",
              "    <tr>\n",
              "      <th>1</th>\n",
              "      <td>8935871</td>\n",
              "      <td>1476</td>\n",
              "      <td>46718394</td>\n",
              "      <td>Shared room</td>\n",
              "      <td>NaN</td>\n",
              "      <td>Amsterdam</td>\n",
              "      <td>NaN</td>\n",
              "      <td>Centrum West</td>\n",
              "      <td>45</td>\n",
              "      <td>4.5</td>\n",
              "      <td>4</td>\n",
              "      <td>1.0</td>\n",
              "      <td>NaN</td>\n",
              "      <td>126.0</td>\n",
              "      <td>NaN</td>\n",
              "      <td>Sunny and Cozy Living room in quite neighbours</td>\n",
              "      <td>2017-07-23 13:06:23.607187</td>\n",
              "      <td>52.378518</td>\n",
              "      <td>4.896120</td>\n",
              "      <td>0101000020E6100000842A357BA095134042791F477330...</td>\n",
              "    </tr>\n",
              "    <tr>\n",
              "      <th>2</th>\n",
              "      <td>14011697</td>\n",
              "      <td>1476</td>\n",
              "      <td>10346595</td>\n",
              "      <td>Shared room</td>\n",
              "      <td>NaN</td>\n",
              "      <td>Amsterdam</td>\n",
              "      <td>NaN</td>\n",
              "      <td>Watergraafsmeer</td>\n",
              "      <td>1</td>\n",
              "      <td>0.0</td>\n",
              "      <td>3</td>\n",
              "      <td>1.0</td>\n",
              "      <td>NaN</td>\n",
              "      <td>132.0</td>\n",
              "      <td>NaN</td>\n",
              "      <td>Amsterdam</td>\n",
              "      <td>2017-07-23 13:06:23.603546</td>\n",
              "      <td>52.338811</td>\n",
              "      <td>4.943592</td>\n",
              "      <td>0101000020E6100000A51133FB3CC613403543AA285E2B...</td>\n",
              "    </tr>\n",
              "    <tr>\n",
              "      <th>3</th>\n",
              "      <td>6137978</td>\n",
              "      <td>1476</td>\n",
              "      <td>8685430</td>\n",
              "      <td>Shared room</td>\n",
              "      <td>NaN</td>\n",
              "      <td>Amsterdam</td>\n",
              "      <td>NaN</td>\n",
              "      <td>Centrum West</td>\n",
              "      <td>7</td>\n",
              "      <td>5.0</td>\n",
              "      <td>4</td>\n",
              "      <td>1.0</td>\n",
              "      <td>NaN</td>\n",
              "      <td>121.0</td>\n",
              "      <td>NaN</td>\n",
              "      <td>Canal boat RIDE in Amsterdam</td>\n",
              "      <td>2017-07-23 13:06:22.689787</td>\n",
              "      <td>52.376319</td>\n",
              "      <td>4.890028</td>\n",
              "      <td>0101000020E6100000DF180280638F134085EE92382B30...</td>\n",
              "    </tr>\n",
              "    <tr>\n",
              "      <th>4</th>\n",
              "      <td>18630616</td>\n",
              "      <td>1476</td>\n",
              "      <td>70191803</td>\n",
              "      <td>Shared room</td>\n",
              "      <td>NaN</td>\n",
              "      <td>Amsterdam</td>\n",
              "      <td>NaN</td>\n",
              "      <td>De Baarsjes / Oud West</td>\n",
              "      <td>1</td>\n",
              "      <td>0.0</td>\n",
              "      <td>2</td>\n",
              "      <td>1.0</td>\n",
              "      <td>NaN</td>\n",
              "      <td>93.0</td>\n",
              "      <td>NaN</td>\n",
              "      <td>One room for rent in a three room appartment</td>\n",
              "      <td>2017-07-23 13:06:19.681469</td>\n",
              "      <td>52.370384</td>\n",
              "      <td>4.852873</td>\n",
              "      <td>0101000020E6100000CD902A8A57691340187B2FBE682F...</td>\n",
              "    </tr>\n",
              "  </tbody>\n",
              "</table>\n",
              "</div>"
            ],
            "text/plain": [
              "    room_id  ...                                           location\n",
              "0  10176931  ...  0101000020E610000033FAD170CA8C13403BC5AA41982D...\n",
              "1   8935871  ...  0101000020E6100000842A357BA095134042791F477330...\n",
              "2  14011697  ...  0101000020E6100000A51133FB3CC613403543AA285E2B...\n",
              "3   6137978  ...  0101000020E6100000DF180280638F134085EE92382B30...\n",
              "4  18630616  ...  0101000020E6100000CD902A8A57691340187B2FBE682F...\n",
              "\n",
              "[5 rows x 20 columns]"
            ]
          },
          "metadata": {
            "tags": []
          },
          "execution_count": 69
        }
      ]
    },
    {
      "cell_type": "code",
      "metadata": {
        "colab": {
          "base_uri": "https://localhost:8080/"
        },
        "id": "9Roz2C0Y7j28",
        "outputId": "d070e09b-db59-42d6-8138-36de0473f29c"
      },
      "source": [
        "#Show the different room types\n",
        "df['room_type'].value_counts()"
      ],
      "execution_count": null,
      "outputs": [
        {
          "output_type": "execute_result",
          "data": {
            "text/plain": [
              "Entire home/apt    14978\n",
              "Private room        3682\n",
              "Shared room           63\n",
              "Name: room_type, dtype: int64"
            ]
          },
          "metadata": {
            "tags": []
          },
          "execution_count": 8
        }
      ]
    },
    {
      "cell_type": "code",
      "metadata": {
        "id": "w6xRuOsI8F1A"
      },
      "source": [
        "#Drop the Shared Room type\n",
        "df = df[df['room_type'] != 'Shared room']"
      ],
      "execution_count": null,
      "outputs": []
    },
    {
      "cell_type": "code",
      "metadata": {
        "colab": {
          "base_uri": "https://localhost:8080/"
        },
        "id": "ATJ22zXt8q1V",
        "outputId": "bb7068b6-868d-44b7-b2a5-dea0f75e37e0"
      },
      "source": [
        "#Count of each neighborhood\n",
        "df['neighborhood'].value_counts()"
      ],
      "execution_count": null,
      "outputs": [
        {
          "output_type": "execute_result",
          "data": {
            "text/plain": [
              "De Baarsjes / Oud West                    3280\n",
              "De Pijp / Rivierenbuurt                   2371\n",
              "Centrum West                              2217\n",
              "Centrum Oost                              1724\n",
              "Westerpark                                1424\n",
              "Noord-West / Noord-Midden                 1416\n",
              "Oud Oost                                  1167\n",
              "Bos en Lommer                              985\n",
              "Oostelijk Havengebied / Indische Buurt     916\n",
              "Watergraafsmeer                            515\n",
              "Oud Noord                                  492\n",
              "Ijburg / Eiland Zeeburg                    378\n",
              "Slotervaart                                346\n",
              "Buitenveldert / Zuidas                     248\n",
              "Noord West                                 241\n",
              "Noord Oost                                 221\n",
              "Geuzenveld / Slotermeer                    192\n",
              "Osdorp                                     161\n",
              "De Aker / Nieuw Sloten                     114\n",
              "Bijlmer Centrum                             98\n",
              "Bijlmer Oost                                97\n",
              "Gaasperdam / Driemond                       42\n",
              "Westpoort                                   15\n",
              "Name: neighborhood, dtype: int64"
            ]
          },
          "metadata": {
            "tags": []
          },
          "execution_count": 16
        }
      ]
    },
    {
      "cell_type": "code",
      "metadata": {
        "colab": {
          "base_uri": "https://localhost:8080/"
        },
        "id": "FfT710wK84RZ",
        "outputId": "dde97414-83e7-4883-9416-7fa6c871137d"
      },
      "source": [
        "#Number of properties that have i reviews\n",
        "df['reviews'].value_counts()"
      ],
      "execution_count": null,
      "outputs": [
        {
          "output_type": "execute_result",
          "data": {
            "text/plain": [
              "0      2975\n",
              "1      1500\n",
              "2      1238\n",
              "3      1100\n",
              "4       924\n",
              "       ... \n",
              "310       1\n",
              "390       1\n",
              "447       1\n",
              "215       1\n",
              "183       1\n",
              "Name: reviews, Length: 283, dtype: int64"
            ]
          },
          "metadata": {
            "tags": []
          },
          "execution_count": 24
        }
      ]
    },
    {
      "cell_type": "code",
      "metadata": {
        "colab": {
          "base_uri": "https://localhost:8080/"
        },
        "id": "d5orFRYY94NR",
        "outputId": "b19a0366-af5c-49c0-ecfc-5573fbfa0397"
      },
      "source": [
        "#Overall satisfaction count by each rating\n",
        "df['overall_satisfaction'].value_counts()"
      ],
      "execution_count": null,
      "outputs": [
        {
          "output_type": "execute_result",
          "data": {
            "text/plain": [
              "5.0    7697\n",
              "0.0    5721\n",
              "4.5    4543\n",
              "4.0     573\n",
              "3.5     105\n",
              "3.0      19\n",
              "2.5       1\n",
              "1.0       1\n",
              "Name: overall_satisfaction, dtype: int64"
            ]
          },
          "metadata": {
            "tags": []
          },
          "execution_count": 27
        }
      ]
    },
    {
      "cell_type": "code",
      "metadata": {
        "id": "vZZKZXfu-In3"
      },
      "source": [
        "#Sub dataset where overall satisfaction is 0\n",
        "df2 = df[df['overall_satisfaction'] == 0.0]"
      ],
      "execution_count": null,
      "outputs": []
    },
    {
      "cell_type": "code",
      "metadata": {
        "colab": {
          "base_uri": "https://localhost:8080/",
          "height": 297
        },
        "id": "9dN5JsH9-qkQ",
        "outputId": "cb9830be-73ec-486e-bb31-a3b6189896fa"
      },
      "source": [
        "#Describe df2\n",
        "df2.describe()"
      ],
      "execution_count": null,
      "outputs": [
        {
          "output_type": "execute_result",
          "data": {
            "text/html": [
              "<div>\n",
              "<style scoped>\n",
              "    .dataframe tbody tr th:only-of-type {\n",
              "        vertical-align: middle;\n",
              "    }\n",
              "\n",
              "    .dataframe tbody tr th {\n",
              "        vertical-align: top;\n",
              "    }\n",
              "\n",
              "    .dataframe thead th {\n",
              "        text-align: right;\n",
              "    }\n",
              "</style>\n",
              "<table border=\"1\" class=\"dataframe\">\n",
              "  <thead>\n",
              "    <tr style=\"text-align: right;\">\n",
              "      <th></th>\n",
              "      <th>room_id</th>\n",
              "      <th>survey_id</th>\n",
              "      <th>host_id</th>\n",
              "      <th>country</th>\n",
              "      <th>borough</th>\n",
              "      <th>reviews</th>\n",
              "      <th>overall_satisfaction</th>\n",
              "      <th>accommodates</th>\n",
              "      <th>bedrooms</th>\n",
              "      <th>bathrooms</th>\n",
              "      <th>price</th>\n",
              "      <th>minstay</th>\n",
              "      <th>latitude</th>\n",
              "      <th>longitude</th>\n",
              "    </tr>\n",
              "  </thead>\n",
              "  <tbody>\n",
              "    <tr>\n",
              "      <th>count</th>\n",
              "      <td>5.721000e+03</td>\n",
              "      <td>5721.0</td>\n",
              "      <td>5.721000e+03</td>\n",
              "      <td>0.0</td>\n",
              "      <td>0.0</td>\n",
              "      <td>5721.000000</td>\n",
              "      <td>5721.0</td>\n",
              "      <td>5721.000000</td>\n",
              "      <td>5721.000000</td>\n",
              "      <td>0.0</td>\n",
              "      <td>5721.000000</td>\n",
              "      <td>0.0</td>\n",
              "      <td>5721.000000</td>\n",
              "      <td>5721.000000</td>\n",
              "    </tr>\n",
              "    <tr>\n",
              "      <th>mean</th>\n",
              "      <td>1.472219e+07</td>\n",
              "      <td>1476.0</td>\n",
              "      <td>4.674155e+07</td>\n",
              "      <td>NaN</td>\n",
              "      <td>NaN</td>\n",
              "      <td>0.700926</td>\n",
              "      <td>0.0</td>\n",
              "      <td>3.024821</td>\n",
              "      <td>1.554623</td>\n",
              "      <td>NaN</td>\n",
              "      <td>175.620696</td>\n",
              "      <td>NaN</td>\n",
              "      <td>52.364361</td>\n",
              "      <td>4.889534</td>\n",
              "    </tr>\n",
              "    <tr>\n",
              "      <th>std</th>\n",
              "      <td>5.209774e+06</td>\n",
              "      <td>0.0</td>\n",
              "      <td>4.424869e+07</td>\n",
              "      <td>NaN</td>\n",
              "      <td>NaN</td>\n",
              "      <td>0.814133</td>\n",
              "      <td>0.0</td>\n",
              "      <td>1.352056</td>\n",
              "      <td>0.949345</td>\n",
              "      <td>NaN</td>\n",
              "      <td>140.020220</td>\n",
              "      <td>NaN</td>\n",
              "      <td>0.015795</td>\n",
              "      <td>0.036742</td>\n",
              "    </tr>\n",
              "    <tr>\n",
              "      <th>min</th>\n",
              "      <td>2.542800e+04</td>\n",
              "      <td>1476.0</td>\n",
              "      <td>2.234000e+03</td>\n",
              "      <td>NaN</td>\n",
              "      <td>NaN</td>\n",
              "      <td>0.000000</td>\n",
              "      <td>0.0</td>\n",
              "      <td>1.000000</td>\n",
              "      <td>0.000000</td>\n",
              "      <td>NaN</td>\n",
              "      <td>22.000000</td>\n",
              "      <td>NaN</td>\n",
              "      <td>52.296200</td>\n",
              "      <td>4.771083</td>\n",
              "    </tr>\n",
              "    <tr>\n",
              "      <th>25%</th>\n",
              "      <td>1.150164e+07</td>\n",
              "      <td>1476.0</td>\n",
              "      <td>9.749992e+06</td>\n",
              "      <td>NaN</td>\n",
              "      <td>NaN</td>\n",
              "      <td>0.000000</td>\n",
              "      <td>0.0</td>\n",
              "      <td>2.000000</td>\n",
              "      <td>1.000000</td>\n",
              "      <td>NaN</td>\n",
              "      <td>114.000000</td>\n",
              "      <td>NaN</td>\n",
              "      <td>52.353951</td>\n",
              "      <td>4.862918</td>\n",
              "    </tr>\n",
              "    <tr>\n",
              "      <th>50%</th>\n",
              "      <td>1.643578e+07</td>\n",
              "      <td>1476.0</td>\n",
              "      <td>2.962380e+07</td>\n",
              "      <td>NaN</td>\n",
              "      <td>NaN</td>\n",
              "      <td>0.000000</td>\n",
              "      <td>0.0</td>\n",
              "      <td>2.000000</td>\n",
              "      <td>1.000000</td>\n",
              "      <td>NaN</td>\n",
              "      <td>150.000000</td>\n",
              "      <td>NaN</td>\n",
              "      <td>52.363567</td>\n",
              "      <td>4.886634</td>\n",
              "    </tr>\n",
              "    <tr>\n",
              "      <th>75%</th>\n",
              "      <td>1.917347e+07</td>\n",
              "      <td>1476.0</td>\n",
              "      <td>7.652614e+07</td>\n",
              "      <td>NaN</td>\n",
              "      <td>NaN</td>\n",
              "      <td>1.000000</td>\n",
              "      <td>0.0</td>\n",
              "      <td>4.000000</td>\n",
              "      <td>2.000000</td>\n",
              "      <td>NaN</td>\n",
              "      <td>209.000000</td>\n",
              "      <td>NaN</td>\n",
              "      <td>52.374183</td>\n",
              "      <td>4.909861</td>\n",
              "    </tr>\n",
              "    <tr>\n",
              "      <th>max</th>\n",
              "      <td>2.000373e+07</td>\n",
              "      <td>1476.0</td>\n",
              "      <td>1.418319e+08</td>\n",
              "      <td>NaN</td>\n",
              "      <td>NaN</td>\n",
              "      <td>5.000000</td>\n",
              "      <td>0.0</td>\n",
              "      <td>16.000000</td>\n",
              "      <td>10.000000</td>\n",
              "      <td>NaN</td>\n",
              "      <td>6000.000000</td>\n",
              "      <td>NaN</td>\n",
              "      <td>52.424980</td>\n",
              "      <td>5.013075</td>\n",
              "    </tr>\n",
              "  </tbody>\n",
              "</table>\n",
              "</div>"
            ],
            "text/plain": [
              "            room_id  survey_id       host_id  ...  minstay     latitude    longitude\n",
              "count  5.721000e+03     5721.0  5.721000e+03  ...      0.0  5721.000000  5721.000000\n",
              "mean   1.472219e+07     1476.0  4.674155e+07  ...      NaN    52.364361     4.889534\n",
              "std    5.209774e+06        0.0  4.424869e+07  ...      NaN     0.015795     0.036742\n",
              "min    2.542800e+04     1476.0  2.234000e+03  ...      NaN    52.296200     4.771083\n",
              "25%    1.150164e+07     1476.0  9.749992e+06  ...      NaN    52.353951     4.862918\n",
              "50%    1.643578e+07     1476.0  2.962380e+07  ...      NaN    52.363567     4.886634\n",
              "75%    1.917347e+07     1476.0  7.652614e+07  ...      NaN    52.374183     4.909861\n",
              "max    2.000373e+07     1476.0  1.418319e+08  ...      NaN    52.424980     5.013075\n",
              "\n",
              "[8 rows x 14 columns]"
            ]
          },
          "metadata": {
            "tags": []
          },
          "execution_count": 32
        }
      ]
    },
    {
      "cell_type": "code",
      "metadata": {
        "colab": {
          "base_uri": "https://localhost:8080/"
        },
        "id": "W-quJkIS-55O",
        "outputId": "3485cdc0-014c-42bc-ebb8-b55f7d35721f"
      },
      "source": [
        "#Satisfaction rating count where bedroom is 3\n",
        "df[df['bedrooms'] == 3]['overall_satisfaction'].value_counts()"
      ],
      "execution_count": null,
      "outputs": [
        {
          "output_type": "execute_result",
          "data": {
            "text/plain": [
              "0.0    635\n",
              "5.0    515\n",
              "4.5    266\n",
              "4.0     22\n",
              "3.5      5\n",
              "2.5      1\n",
              "Name: overall_satisfaction, dtype: int64"
            ]
          },
          "metadata": {
            "tags": []
          },
          "execution_count": 34
        }
      ]
    },
    {
      "cell_type": "code",
      "metadata": {
        "colab": {
          "base_uri": "https://localhost:8080/"
        },
        "id": "Uu5KITe5__Z_",
        "outputId": "fbaa635c-655a-45b7-da35-f7f9f4063546"
      },
      "source": [
        "#Satisfaction rating count where bedroom is 2\n",
        "df[df['bedrooms'] == 2]['overall_satisfaction'].value_counts()"
      ],
      "execution_count": null,
      "outputs": [
        {
          "output_type": "execute_result",
          "data": {
            "text/plain": [
              "5.0    1787\n",
              "0.0    1487\n",
              "4.5    1033\n",
              "4.0     127\n",
              "3.5      16\n",
              "3.0       6\n",
              "Name: overall_satisfaction, dtype: int64"
            ]
          },
          "metadata": {
            "tags": []
          },
          "execution_count": 35
        }
      ]
    },
    {
      "cell_type": "code",
      "metadata": {
        "colab": {
          "base_uri": "https://localhost:8080/"
        },
        "id": "_EC9PFE4ANAP",
        "outputId": "8dfe9ff6-aa32-4604-b095-6373b19b9010"
      },
      "source": [
        "#Satisfaction rating count where price is greater than equal to 150 but less than equal to 180\n",
        "df[(df['price'] >= 150) & (df['price'] <= 180)]['overall_satisfaction'].value_counts()"
      ],
      "execution_count": null,
      "outputs": [
        {
          "output_type": "execute_result",
          "data": {
            "text/plain": [
              "5.0    1634\n",
              "0.0    1169\n",
              "4.5     881\n",
              "4.0     104\n",
              "3.5      12\n",
              "3.0       4\n",
              "Name: overall_satisfaction, dtype: int64"
            ]
          },
          "metadata": {
            "tags": []
          },
          "execution_count": 44
        }
      ]
    },
    {
      "cell_type": "code",
      "metadata": {
        "id": "Uw7kcktaA1Pk"
      },
      "source": [
        "#Replace the values 0 in overall_satisfaction with value 4\n",
        "df3 = df.copy()\n",
        "df3.loc[df3['overall_satisfaction'] == 0,'overall_satisfaction'] = 4"
      ],
      "execution_count": null,
      "outputs": []
    },
    {
      "cell_type": "code",
      "metadata": {
        "colab": {
          "base_uri": "https://localhost:8080/"
        },
        "id": "ugt23djnC65m",
        "outputId": "e897d67c-d5fe-4c77-d6d1-cb0f450ac735"
      },
      "source": [
        "df['overall_satisfaction'].value_counts()"
      ],
      "execution_count": null,
      "outputs": [
        {
          "output_type": "execute_result",
          "data": {
            "text/plain": [
              "5.0    7708\n",
              "0.0    5748\n",
              "4.5    4559\n",
              "4.0     577\n",
              "3.5     109\n",
              "3.0      19\n",
              "1.0       1\n",
              "2.5       1\n",
              "1.5       1\n",
              "Name: overall_satisfaction, dtype: int64"
            ]
          },
          "metadata": {
            "tags": []
          },
          "execution_count": 86
        }
      ]
    },
    {
      "cell_type": "code",
      "metadata": {
        "colab": {
          "base_uri": "https://localhost:8080/"
        },
        "id": "yjhZyhJaDJSL",
        "outputId": "e73bb85c-23dd-4129-fe13-b85744c783e4"
      },
      "source": [
        "df3['overall_satisfaction'].value_counts()"
      ],
      "execution_count": null,
      "outputs": [
        {
          "output_type": "execute_result",
          "data": {
            "text/plain": [
              "5.0    7708\n",
              "4.0    6325\n",
              "4.5    4559\n",
              "3.5     109\n",
              "3.0      19\n",
              "1.0       1\n",
              "2.5       1\n",
              "1.5       1\n",
              "Name: overall_satisfaction, dtype: int64"
            ]
          },
          "metadata": {
            "tags": []
          },
          "execution_count": 87
        }
      ]
    },
    {
      "cell_type": "code",
      "metadata": {
        "colab": {
          "base_uri": "https://localhost:8080/",
          "height": 296
        },
        "id": "7tDAZKOhFMGG",
        "outputId": "5da8fc44-dc00-47f8-90f0-5bb9675712c6"
      },
      "source": [
        "fig, ax =plt.subplots(1,1)\n",
        "plt.size = (10,10)\n",
        "sns.countplot(df['overall_satisfaction'])\n",
        "plt.title('My title')\n",
        "plt.xlabel('overall_satisfaction')\n",
        "plt.ylabel('ratings')\n",
        "fig.set_size_inches(15, 3)\n",
        "fig.show()"
      ],
      "execution_count": null,
      "outputs": [
        {
          "output_type": "stream",
          "text": [
            "/usr/local/lib/python3.7/dist-packages/seaborn/_decorators.py:43: FutureWarning: Pass the following variable as a keyword arg: x. From version 0.12, the only valid positional argument will be `data`, and passing other arguments without an explicit keyword will result in an error or misinterpretation.\n",
            "  FutureWarning\n"
          ],
          "name": "stderr"
        },
        {
          "output_type": "display_data",
          "data": {
            "image/png": "[encoded data removed]",
            "text/plain": [
              "<Figure size 1080x216 with 1 Axes>"
            ]
          },
          "metadata": {
            "tags": [],
            "needs_background": "light"
          }
        }
      ]
    },
    {
      "cell_type": "code",
      "metadata": {
        "colab": {
          "base_uri": "https://localhost:8080/",
          "height": 296
        },
        "id": "gM0kO04WFUW_",
        "outputId": "fe694a19-ff2e-4b93-a7bf-fc4f269f01dc"
      },
      "source": [
        "fig, ax = plt.subplots(1,1)\n",
        "plt.size = (10,10)\n",
        "sns.countplot(df3['overall_satisfaction'])\n",
        "plt.title('df3')\n",
        "plt.xlabel('overall_satisfaction')\n",
        "plt.ylabel('ratings')\n",
        "fig.set_size_inches(15, 3)\n",
        "fig.show()"
      ],
      "execution_count": null,
      "outputs": [
        {
          "output_type": "stream",
          "text": [
            "/usr/local/lib/python3.7/dist-packages/seaborn/_decorators.py:43: FutureWarning: Pass the following variable as a keyword arg: x. From version 0.12, the only valid positional argument will be `data`, and passing other arguments without an explicit keyword will result in an error or misinterpretation.\n",
            "  FutureWarning\n"
          ],
          "name": "stderr"
        },
        {
          "output_type": "display_data",
          "data": {
            "image/png": "[encoded data removed]",
            "text/plain": [
              "<Figure size 1080x216 with 1 Axes>"
            ]
          },
          "metadata": {
            "tags": [],
            "needs_background": "light"
          }
        }
      ]
    },
    {
      "cell_type": "code",
      "metadata": {
        "colab": {
          "base_uri": "https://localhost:8080/",
          "height": 462
        },
        "id": "bjMATvS1HGdo",
        "outputId": "5eade788-c949-41ca-b1e7-71d6783ae262"
      },
      "source": [
        "df.head()"
      ],
      "execution_count": null,
      "outputs": [
        {
          "output_type": "execute_result",
          "data": {
            "text/html": [
              "<div>\n",
              "<style scoped>\n",
              "    .dataframe tbody tr th:only-of-type {\n",
              "        vertical-align: middle;\n",
              "    }\n",
              "\n",
              "    .dataframe tbody tr th {\n",
              "        vertical-align: top;\n",
              "    }\n",
              "\n",
              "    .dataframe thead th {\n",
              "        text-align: right;\n",
              "    }\n",
              "</style>\n",
              "<table border=\"1\" class=\"dataframe\">\n",
              "  <thead>\n",
              "    <tr style=\"text-align: right;\">\n",
              "      <th></th>\n",
              "      <th>room_id</th>\n",
              "      <th>survey_id</th>\n",
              "      <th>host_id</th>\n",
              "      <th>room_type</th>\n",
              "      <th>country</th>\n",
              "      <th>city</th>\n",
              "      <th>borough</th>\n",
              "      <th>neighborhood</th>\n",
              "      <th>reviews</th>\n",
              "      <th>overall_satisfaction</th>\n",
              "      <th>accommodates</th>\n",
              "      <th>bedrooms</th>\n",
              "      <th>bathrooms</th>\n",
              "      <th>price</th>\n",
              "      <th>minstay</th>\n",
              "      <th>name</th>\n",
              "      <th>last_modified</th>\n",
              "      <th>latitude</th>\n",
              "      <th>longitude</th>\n",
              "      <th>location</th>\n",
              "    </tr>\n",
              "  </thead>\n",
              "  <tbody>\n",
              "    <tr>\n",
              "      <th>0</th>\n",
              "      <td>10176931</td>\n",
              "      <td>1476</td>\n",
              "      <td>49180562</td>\n",
              "      <td>Shared room</td>\n",
              "      <td>NaN</td>\n",
              "      <td>Amsterdam</td>\n",
              "      <td>NaN</td>\n",
              "      <td>De Pijp / Rivierenbuurt</td>\n",
              "      <td>7</td>\n",
              "      <td>4.5</td>\n",
              "      <td>2</td>\n",
              "      <td>1.0</td>\n",
              "      <td>NaN</td>\n",
              "      <td>156.0</td>\n",
              "      <td>NaN</td>\n",
              "      <td>Red Light/ Canal view apartment (Shared)</td>\n",
              "      <td>2017-07-23 13:06:27.391699</td>\n",
              "      <td>52.356209</td>\n",
              "      <td>4.887491</td>\n",
              "      <td>0101000020E610000033FAD170CA8C13403BC5AA41982D...</td>\n",
              "    </tr>\n",
              "    <tr>\n",
              "      <th>1</th>\n",
              "      <td>8935871</td>\n",
              "      <td>1476</td>\n",
              "      <td>46718394</td>\n",
              "      <td>Shared room</td>\n",
              "      <td>NaN</td>\n",
              "      <td>Amsterdam</td>\n",
              "      <td>NaN</td>\n",
              "      <td>Centrum West</td>\n",
              "      <td>45</td>\n",
              "      <td>4.5</td>\n",
              "      <td>4</td>\n",
              "      <td>1.0</td>\n",
              "      <td>NaN</td>\n",
              "      <td>126.0</td>\n",
              "      <td>NaN</td>\n",
              "      <td>Sunny and Cozy Living room in quite neighbours</td>\n",
              "      <td>2017-07-23 13:06:23.607187</td>\n",
              "      <td>52.378518</td>\n",
              "      <td>4.896120</td>\n",
              "      <td>0101000020E6100000842A357BA095134042791F477330...</td>\n",
              "    </tr>\n",
              "    <tr>\n",
              "      <th>2</th>\n",
              "      <td>14011697</td>\n",
              "      <td>1476</td>\n",
              "      <td>10346595</td>\n",
              "      <td>Shared room</td>\n",
              "      <td>NaN</td>\n",
              "      <td>Amsterdam</td>\n",
              "      <td>NaN</td>\n",
              "      <td>Watergraafsmeer</td>\n",
              "      <td>1</td>\n",
              "      <td>0.0</td>\n",
              "      <td>3</td>\n",
              "      <td>1.0</td>\n",
              "      <td>NaN</td>\n",
              "      <td>132.0</td>\n",
              "      <td>NaN</td>\n",
              "      <td>Amsterdam</td>\n",
              "      <td>2017-07-23 13:06:23.603546</td>\n",
              "      <td>52.338811</td>\n",
              "      <td>4.943592</td>\n",
              "      <td>0101000020E6100000A51133FB3CC613403543AA285E2B...</td>\n",
              "    </tr>\n",
              "    <tr>\n",
              "      <th>3</th>\n",
              "      <td>6137978</td>\n",
              "      <td>1476</td>\n",
              "      <td>8685430</td>\n",
              "      <td>Shared room</td>\n",
              "      <td>NaN</td>\n",
              "      <td>Amsterdam</td>\n",
              "      <td>NaN</td>\n",
              "      <td>Centrum West</td>\n",
              "      <td>7</td>\n",
              "      <td>5.0</td>\n",
              "      <td>4</td>\n",
              "      <td>1.0</td>\n",
              "      <td>NaN</td>\n",
              "      <td>121.0</td>\n",
              "      <td>NaN</td>\n",
              "      <td>Canal boat RIDE in Amsterdam</td>\n",
              "      <td>2017-07-23 13:06:22.689787</td>\n",
              "      <td>52.376319</td>\n",
              "      <td>4.890028</td>\n",
              "      <td>0101000020E6100000DF180280638F134085EE92382B30...</td>\n",
              "    </tr>\n",
              "    <tr>\n",
              "      <th>4</th>\n",
              "      <td>18630616</td>\n",
              "      <td>1476</td>\n",
              "      <td>70191803</td>\n",
              "      <td>Shared room</td>\n",
              "      <td>NaN</td>\n",
              "      <td>Amsterdam</td>\n",
              "      <td>NaN</td>\n",
              "      <td>De Baarsjes / Oud West</td>\n",
              "      <td>1</td>\n",
              "      <td>0.0</td>\n",
              "      <td>2</td>\n",
              "      <td>1.0</td>\n",
              "      <td>NaN</td>\n",
              "      <td>93.0</td>\n",
              "      <td>NaN</td>\n",
              "      <td>One room for rent in a three room appartment</td>\n",
              "      <td>2017-07-23 13:06:19.681469</td>\n",
              "      <td>52.370384</td>\n",
              "      <td>4.852873</td>\n",
              "      <td>0101000020E6100000CD902A8A57691340187B2FBE682F...</td>\n",
              "    </tr>\n",
              "  </tbody>\n",
              "</table>\n",
              "</div>"
            ],
            "text/plain": [
              "    room_id  ...                                           location\n",
              "0  10176931  ...  0101000020E610000033FAD170CA8C13403BC5AA41982D...\n",
              "1   8935871  ...  0101000020E6100000842A357BA095134042791F477330...\n",
              "2  14011697  ...  0101000020E6100000A51133FB3CC613403543AA285E2B...\n",
              "3   6137978  ...  0101000020E6100000DF180280638F134085EE92382B30...\n",
              "4  18630616  ...  0101000020E6100000CD902A8A57691340187B2FBE682F...\n",
              "\n",
              "[5 rows x 20 columns]"
            ]
          },
          "metadata": {
            "tags": []
          },
          "execution_count": 126
        }
      ]
    },
    {
      "cell_type": "code",
      "metadata": {
        "colab": {
          "base_uri": "https://localhost:8080/"
        },
        "id": "x0UdrmODIn4E",
        "outputId": "6419a9f1-ddce-441c-b87d-b92563611dcb"
      },
      "source": [
        "df['accommodates'].value_counts()"
      ],
      "execution_count": null,
      "outputs": [
        {
          "output_type": "execute_result",
          "data": {
            "text/plain": [
              "2     10024\n",
              "4      5579\n",
              "3      1585\n",
              "6       476\n",
              "5       471\n",
              "1       367\n",
              "8       105\n",
              "7        52\n",
              "16       20\n",
              "10       16\n",
              "12       10\n",
              "9         8\n",
              "14        6\n",
              "11        2\n",
              "13        1\n",
              "17        1\n",
              "Name: accommodates, dtype: int64"
            ]
          },
          "metadata": {
            "tags": []
          },
          "execution_count": 128
        }
      ]
    },
    {
      "cell_type": "code",
      "metadata": {
        "colab": {
          "base_uri": "https://localhost:8080/"
        },
        "id": "FWxISn7pIvkB",
        "outputId": "69322d17-dd4f-442a-f5d0-538ccbf3003a"
      },
      "source": [
        "df['price'].mean()"
      ],
      "execution_count": null,
      "outputs": [
        {
          "output_type": "execute_result",
          "data": {
            "text/plain": [
              "166.59947657960797"
            ]
          },
          "metadata": {
            "tags": []
          },
          "execution_count": 129
        }
      ]
    },
    {
      "cell_type": "code",
      "metadata": {
        "colab": {
          "base_uri": "https://localhost:8080/"
        },
        "id": "Mbph8DOQJbLY",
        "outputId": "01085905-aef5-40e4-c676-194f63c10605"
      },
      "source": [
        "df['bedrooms'].value_counts()/len(df) * 100"
      ],
      "execution_count": null,
      "outputs": [
        {
          "output_type": "execute_result",
          "data": {
            "text/plain": [
              "1.0     59.290712\n",
              "2.0     23.799605\n",
              "3.0      7.712439\n",
              "0.0      6.163542\n",
              "4.0      2.526305\n",
              "5.0      0.331144\n",
              "6.0      0.101479\n",
              "10.0     0.026705\n",
              "7.0      0.021364\n",
              "8.0      0.016023\n",
              "9.0      0.010682\n",
              "Name: bedrooms, dtype: float64"
            ]
          },
          "metadata": {
            "tags": []
          },
          "execution_count": 163
        }
      ]
    },
    {
      "cell_type": "code",
      "metadata": {
        "id": "3ArU_gzvKWFQ"
      },
      "source": [
        "df = df.drop(df[df['bedrooms'] == 0].index)"
      ],
      "execution_count": null,
      "outputs": []
    },
    {
      "cell_type": "code",
      "metadata": {
        "colab": {
          "base_uri": "https://localhost:8080/"
        },
        "id": "emp3aX-ELBrn",
        "outputId": "94412e9a-0078-4e2c-e62e-cb0d54ac2db2"
      },
      "source": [
        "df['bedrooms'].value_counts()"
      ],
      "execution_count": null,
      "outputs": [
        {
          "output_type": "execute_result",
          "data": {
            "text/plain": [
              "1.0     11101\n",
              "2.0      4456\n",
              "3.0      1444\n",
              "4.0       473\n",
              "5.0        62\n",
              "6.0        19\n",
              "10.0        5\n",
              "7.0         4\n",
              "8.0         3\n",
              "9.0         2\n",
              "Name: bedrooms, dtype: int64"
            ]
          },
          "metadata": {
            "tags": []
          },
          "execution_count": 144
        }
      ]
    }
  ]
}